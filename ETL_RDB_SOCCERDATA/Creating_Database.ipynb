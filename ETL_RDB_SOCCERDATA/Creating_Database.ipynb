{
  "cells": [
    {
      "cell_type": "code",
      "execution_count": null,
      "metadata": {
        "id": "fJh6wLO5tVve"
      },
      "outputs": [],
      "source": [
        "import sqlite3\n",
        "import requests\n",
        "import pandas as pd\n",
        "import time\n",
        "import pytz\n",
        "from datetime import datetime"
      ]
    },
    {
      "cell_type": "code",
      "execution_count": null,
      "metadata": {
        "id": "Kn7_n4mcxf5z"
      },
      "outputs": [],
      "source": [
        "url_rodada_2023 = \"https://api.sofascore.com/api/v1/unique-tournament/325/season/48982/events/round/38\"\n",
        "\n",
        "payload = {}\n",
        "\n",
        "headers = {\n",
        "  'authority': 'api.sofascore.com',\n",
        "  'accept': '*/*' ,\n",
        "  'accept-language': 'pt-BR,pt;q=0.9,en-US;q=0.8,en;q=0.7' ,\n",
        "  'cache-control': 'max-age=0' ,\n",
        "  'if-none-match': 'W/\"660f6c17a5\"' ,\n",
        "  'origin': 'https://www.sofascore.com' ,\n",
        "  'referer': 'https://www.sofascore.com/' ,\n",
        "  'sec-ch-ua': 'Not A(Brand\";v=\"99\", \"Opera GX\";v=\"107\", \"Chromium\";v=\"121\"',\n",
        "  'sec-ch-ua-mobile': '?0' ,\n",
        "  'sec-ch-ua-platform': '\"Windows\"' ,\n",
        "  'sec-fetch-dest': 'empty' ,\n",
        "  'sec-fetch-mode': 'cors' ,\n",
        "  'sec-fetch-site': 'same-site' ,\n",
        "  'user-agent': 'Mozilla/5.0 (Windows NT 10.0; Win64; x64) AppleWebKit/537.36 (KHTML, like Gecko) Chrome/121.0.0.0 Safari/537.36 OPR/107.0.0.0'\n",
        "}"
      ]
    },
    {
      "cell_type": "code",
      "execution_count": null,
      "metadata": {
        "id": "8Bxe5_f5CdiN"
      },
      "outputs": [],
      "source": [
        "df = pd.DataFrame()\n",
        "for i in range(1, 39):\n",
        "  url_rodada = f\"https://api.sofascore.com/api/v1/unique-tournament/325/season/48982/events/round/{i}\"\n",
        "  response = requests.request(\"GET\", url_rodada , headers = headers, data = payload)\n",
        "  partidas = response.json()['events']\n",
        "  df_temp = pd.json_normalize(partidas)\n",
        "  df_temp = df_temp[['id',  'hasGlobalHighlights', 'crowdsourcingDataDisplayEnabled',  'startTimestamp', 'slug', 'finalResultOnly',\n",
        "       'tournament.name', 'tournament.slug',\n",
        "       'tournament.uniqueTournament.name',  'tournament.uniqueTournament.slug',  'tournament.uniqueTournament.userCount',  'tournament.uniqueTournament.id', 'tournament.id', 'season.name', 'season.year', 'season.editor',\n",
        "       'season.id', 'roundInfo.round', 'status.code', 'status.description', 'status.type', 'homeTeam.name',  'homeTeam.slug', 'homeTeam.shortName',  'homeTeam.userCount', 'homeTeam.nameCode', 'homeTeam.disabled',\n",
        "       'homeTeam.national', 'homeTeam.type', 'homeTeam.id', 'homeTeam.teamColors.primary', 'homeTeam.teamColors.secondary', 'homeTeam.teamColors.text', 'awayTeam.name','awayTeam.slug', 'awayTeam.shortName',\n",
        "       'awayTeam.userCount', 'awayTeam.nameCode', 'awayTeam.disabled', 'awayTeam.national', 'awayTeam.type', 'awayTeam.id', 'awayTeam.teamColors.primary', 'awayTeam.teamColors.secondary', 'awayTeam.teamColors.text']]\n",
        "  df_temp.rename(columns={df_temp.columns[0]: \"game_id\"}, inplace=True)\n",
        "  df = pd.concat([df, df_temp])\n",
        "  time.sleep(2)\n",
        "\n",
        "  url_rodada = f\"https://api.sofascore.com/api/v1/unique-tournament/325/season/58766/events/round/{i}\"\n",
        "  response = requests.request(\"GET\", url_rodada , headers = headers, data = payload)\n",
        "  partidas = response.json()['events']\n",
        "  df_temp = pd.json_normalize(partidas)\n",
        "  df_temp = df_temp[['id',  'hasGlobalHighlights', 'crowdsourcingDataDisplayEnabled',  'startTimestamp', 'slug', 'finalResultOnly','tournament.name', 'tournament.slug',\n",
        "       'tournament.uniqueTournament.name',  'tournament.uniqueTournament.slug',  'tournament.uniqueTournament.userCount',  'tournament.uniqueTournament.id', 'tournament.id', 'season.name', 'season.year', 'season.editor',\n",
        "       'season.id', 'roundInfo.round', 'status.code', 'status.description', 'status.type', 'homeTeam.name',  'homeTeam.slug', 'homeTeam.shortName',  'homeTeam.userCount', 'homeTeam.nameCode', 'homeTeam.disabled',\n",
        "       'homeTeam.national', 'homeTeam.type', 'homeTeam.id', 'homeTeam.teamColors.primary', 'homeTeam.teamColors.secondary', 'homeTeam.teamColors.text', 'awayTeam.name','awayTeam.slug', 'awayTeam.shortName',\n",
        "       'awayTeam.userCount', 'awayTeam.nameCode', 'awayTeam.disabled', 'awayTeam.national', 'awayTeam.type', 'awayTeam.id', 'awayTeam.teamColors.primary', 'awayTeam.teamColors.secondary', 'awayTeam.teamColors.text']]\n",
        "  df_temp.rename(columns={df_temp.columns[0]: \"game_id\"}, inplace=True)\n",
        "  df_temp['datetime'] = pd.to_datetime(df_temp['startTimestamp'], unit='s', utc=True).dt.tz_convert('UTC-03:00')\n",
        "  df = pd.concat([df, df_temp])\n",
        "  time.sleep(2)\n",
        "\n"
      ]
    },
    {
      "cell_type": "code",
      "execution_count": null,
      "metadata": {
        "id": "xFTzyktlyGpz"
      },
      "outputs": [],
      "source": [
        "df.columns = df.columns.str.strip()"
      ]
    },
    {
      "cell_type": "code",
      "execution_count": null,
      "metadata": {
        "id": "T3AQI3oezVhb"
      },
      "outputs": [],
      "source": [
        "conn = sqlite3.connect('/content/drive/MyDrive/projectDatabase/soccerDataLake.db')"
      ]
    },
    {
      "cell_type": "code",
      "execution_count": null,
      "metadata": {
        "colab": {
          "base_uri": "https://localhost:8080/"
        },
        "id": "wj_dWhF11FBE",
        "outputId": "395b4946-7ae5-4934-f9f0-977a79c12ffb"
      },
      "outputs": [
        {
          "data": {
            "text/plain": [
              "761"
            ]
          },
          "execution_count": 10,
          "metadata": {},
          "output_type": "execute_result"
        }
      ],
      "source": [
        "df.to_sql( 'games' , conn , if_exists='replace')"
      ]
    },
    {
      "cell_type": "code",
      "execution_count": null,
      "metadata": {
        "id": "emzg4Lx6AYoz"
      },
      "outputs": [],
      "source": [
        "query = \"SELECT g.game_id FROM games g\"\n",
        "df = pd.read_sql_query(query, conn)\n",
        "conn.close()\n",
        "lista = df['game_id'].to_list()"
      ]
    },
    {
      "cell_type": "code",
      "execution_count": null,
      "metadata": {
        "id": "PGH-a76sLazL"
      },
      "outputs": [],
      "source": [
        "df = pd.DataFrame()\n",
        "for i in lista:\n",
        "  url_partida = f\"https://api.sofascore.com/api/v1/event/{i}\"\n",
        "  response = requests.request(\"GET\", url_partida , headers = headers, data = payload)\n",
        "  partidas = response.json()['event']\n",
        "  df_temp = pd.json_normalize(partidas)\n",
        "  df_temp = df_temp[['id','slug','homeTeam.shortName', 'homeScore.period1', 'homeScore.period2', 'homeScore.normaltime', 'awayScore.period1', 'awayScore.period2' ,'awayScore.normaltime' ,'awayTeam.shortName',\n",
        "                     'venue.id','venue.city.name', 'venue.stadium.name', 'venue.stadium.capacity', 'venue.country.alpha2',  'venue.country.alpha3', 'venue.country.name',\n",
        "                     'referee.id','referee.name', 'referee.slug', 'referee.yellowCards', 'referee.redCards',  'referee.yellowRedCards', 'referee.games', 'referee.country.name']]\n",
        "  df_temp.rename(columns={df_temp.columns[0]: \"game_id\"}, inplace=True)\n",
        "  df = pd.concat([df, df_temp])\n",
        "  time.sleep(2)"
      ]
    },
    {
      "cell_type": "code",
      "execution_count": null,
      "metadata": {
        "id": "FbkKIkXCTRv-"
      },
      "outputs": [],
      "source": [
        "df.columns.values"
      ]
    },
    {
      "cell_type": "code",
      "execution_count": null,
      "metadata": {
        "id": "QrXhrLQnOPy4"
      },
      "outputs": [],
      "source": [
        "score = df[['game_id','slug','homeTeam.shortName', 'homeScore.period1', 'homeScore.period2', 'homeScore.normaltime',\n",
        "            'awayScore.period1', 'awayScore.period2' ,'awayScore.normaltime' ,'awayTeam.shortName']]\n",
        "\n",
        "score.columns = df.columns.str.strip()\n",
        "conn = sqlite3.connect(\"/content/drive/MyDrive/projectDatabase/sofascore.db\")\n",
        "score.to_sql( 'score' , conn , if_exists='replace')\n",
        "conn.close()"
      ]
    },
    {
      "cell_type": "code",
      "execution_count": null,
      "metadata": {
        "id": "NlfgquHMUOmG"
      },
      "outputs": [],
      "source": [
        "venue = df[['game_id', 'venue.id','venue.city.name', 'venue.stadium.name',\n",
        "       'venue.stadium.capacity', 'venue.country.alpha2',\n",
        "       'venue.country.alpha3', 'venue.country.name']]\n",
        "venue.rename(columns={df_temp.columns[1]: \"venue_id\"} ,inplace=True)\n",
        "\n",
        "venue.columns = df.columns.str.strip()\n",
        "conn = sqlite3.connect(\"/content/drive/MyDrive/projectDatabase/sofascore.db\")\n",
        "venue.to_sql( 'venue' , conn , if_exists='replace')\n",
        "conn.close()"
      ]
    },
    {
      "cell_type": "code",
      "execution_count": null,
      "metadata": {
        "id": "3OriV_GEUUc_"
      },
      "outputs": [],
      "source": [
        "referee = df[['game_id','referee.id','referee.name',\n",
        "       'referee.slug', 'referee.yellowCards', 'referee.redCards',\n",
        "       'referee.yellowRedCards', 'referee.games', 'referee.country.name']]\n",
        "referee.rename(columns={df_temp.columns[1]: \"referee_id\"} ,inplace=True)\n",
        "\n",
        "referee.columns = df.columns.str.strip()\n",
        "conn = sqlite3.connect(\"/content/drive/MyDrive/projectDatabase/soccerDataLake.db\")\n",
        "referee.to_sql( 'referee' , conn , if_exists='replace')\n",
        "conn.close()"
      ]
    },
    {
      "cell_type": "code",
      "execution_count": null,
      "metadata": {
        "id": "A4R4ASa8ggv9"
      },
      "outputs": [],
      "source": [
        "df = pd.DataFrame()\n",
        "for i in lista:\n",
        "  url_partida = f\"https://api.sofascore.com/api/v1/event/{i}/incidents\"\n",
        "  response = requests.request(\"GET\", url_partida , headers = headers, data = payload)\n",
        "  partidas = response.json()['incidents']\n",
        "  df_temp = pd.json_normalize(partidas)\n",
        "  df_temp['event_id'] = df_temp['id']\n",
        "  df_temp['game_id'] = i\n",
        "  df_temp = df_temp[['game_id', 'event_id', 'player.id', 'incidentType','incidentClass', 'reason', 'time', 'isHome' ]]\n",
        "  df = pd.concat([df, df_temp])\n",
        "  time.sleep(2)\n",
        "\n",
        "df.columns = df.columns.str.strip()\n",
        "conn = sqlite3.connect(\"/content/drive/MyDrive/projectDatabase/soccerDataLake.db\")\n",
        "df.to_sql( 'incidents' , conn , if_exists='replace')\n",
        "conn.close()"
      ]
    },
    {
      "cell_type": "code",
      "execution_count": null,
      "metadata": {
        "id": "lDS-fHdsnz-L"
      },
      "outputs": [],
      "source": [
        "df = pd.DataFrame()\n",
        "for i in lista:\n",
        "  url = f\"https://api.sofascore.com/api/v1/event/{i}/shotmap\"\n",
        "  response = requests.request(\"GET\", url , headers = headers, data = payload)\n",
        "  partidas = response.json()['shotmap']\n",
        "  df_temp = pd.json_normalize(partidas)\n",
        "  df_temp['shot_id'] = df_temp['id']\n",
        "  df_temp['player_id'] = df_temp['player.id']\n",
        "  df_temp['game_id'] = i\n",
        "  df_temp = df_temp[['game_id', 'shot_id', 'player_id', 'playerCoordinates.x','playerCoordinates.y', 'incidentType', 'bodyPart', 'situation', 'shotType', 'time', 'addedTime', 'goalMouthLocation', 'xg', 'xgot' ]]\n",
        "  df = pd.concat([df, df_temp])\n",
        "  time.sleep(2)\n",
        "\n",
        "df.columns = df.columns.str.strip()\n",
        "conn = sqlite3.connect(\"/content/drive/MyDrive/projectDatabase/soccerDataLake.db\")\n",
        "df.to_sql( 'playerShotmap' , conn , if_exists='replace')\n",
        "conn.close()"
      ]
    },
    {
      "cell_type": "code",
      "execution_count": null,
      "metadata": {
        "id": "EnB04JKOIVPc"
      },
      "outputs": [],
      "source": [
        "df = pd.DataFrame()\n",
        "for i in lista:\n",
        "    url_partida = f\"https://api.sofascore.com/api/v1/event/{i}/statistics\"\n",
        "    response = requests.request(\"GET\", url_partida , headers = headers, data = payload)\n",
        "    grupos = response.json()['statistics']\n",
        "    df_temp = pd.json_normalize(grupos)\n",
        "    df_temp['game_id'] = i\n",
        "    df_temp = df_temp.apply(pd.Series.explode)\n",
        "    df_temp = df_temp.reset_index(drop=True)\n",
        "    df_temp = df_temp.join(pd.json_normalize(df_temp['groups']))\n",
        "    df_temp.drop('groups', axis= 1, inplace=True)\n",
        "    df_temp = df_temp.apply(pd.Series.explode)\n",
        "    df_temp = df_temp.join(pd.json_normalize(df_temp['statisticsItems']))\n",
        "    df_temp.drop('statisticsItems', axis=1, inplace = True)\n",
        "    df = pd.concat([df, df_temp])\n",
        "    time.sleep(2)\n",
        "\n",
        "df.columns = df.columns.str.strip()\n",
        "conn = sqlite3.connect(\"/content/drive/MyDrive/projectDatabase/soccerDataLake.db\")\n",
        "df.to_sql( 'gameStats' , conn , if_exists='replace')\n",
        "conn.close()"
      ]
    },
    {
      "cell_type": "code",
      "execution_count": null,
      "metadata": {
        "id": "7BEbs1YKdaqP"
      },
      "outputs": [],
      "source": [
        "df = pd.DataFrame()\n",
        "for i in lista:\n",
        "    url_partida = f\"https://api.sofascore.com/api/v1/event/{i}/average-positions\"\n",
        "    response = requests.request(\"GET\", url_partida , headers = headers, data = payload)\n",
        "    grupos  = response.json()\n",
        "    df_home = pd.json_normalize(response.json()['home'])\n",
        "    df_home['side'] = 'home'\n",
        "\n",
        "    df_away = pd.json_normalize(response.json()['away'])\n",
        "    df_away['side'] = 'away'\n",
        "\n",
        "    df_temp = pd.concat([df_home,df_away])\n",
        "    df_temp['game_id'] = i\n",
        "\n",
        "    df_temp = df_temp.rename(columns = {'player.id':'player_id'})\n",
        "    df_temp = df_temp[['game_id', 'player_id', 'side','averageX', 'averageY', 'pointsCount', 'player.name', 'player.slug', 'player.shortName', 'player.position', 'player.jerseyNumber']]\n",
        "    df = pd.concat([df, df_temp])\n",
        "    time.sleep(2)\n",
        "\n",
        "df.columns = df.columns.str.strip()\n",
        "conn = sqlite3.connect(\"/content/drive/MyDrive/projectDatabase/soccerDataLake.db\")\n",
        "df.to_sql( 'lineup' , conn , if_exists='replace')\n",
        "conn.close()"
      ]
    },
    {
      "cell_type": "code",
      "execution_count": null,
      "metadata": {
        "id": "whYqcSGZqE_Z"
      },
      "outputs": [],
      "source": [
        "df = pd.DataFrame()\n",
        "for i in lista:\n",
        "    url_partida = f\"https://api.sofascore.com/api/v1/event/{i}/average-positions\"\n",
        "    response = requests.request(\"GET\", url_partida , headers = headers, data = payload)\n",
        "    grupos  = response.json()\n",
        "    df_home = pd.json_normalize(response.json()['home'])\n",
        "    df_home['side'] = 'home'\n",
        "\n",
        "    df_away = pd.json_normalize(response.json()['away'])\n",
        "    df_away['side'] = 'away'\n",
        "\n",
        "    df_temp = pd.concat([df_home,df_away])\n",
        "    df_temp['game_id'] = i\n",
        "\n",
        "    df_temp = df_temp.rename(columns = {'player.id':'player_id'})\n",
        "    df_temp = df_temp[['game_id', 'player_id', 'side','averageX', 'averageY', 'pointsCount', 'player.name', 'player.slug', 'player.shortName', 'player.position', 'player.jerseyNumber']]\n",
        "    df = pd.concat([df, df_temp])\n",
        "    time.sleep(2)\n",
        "\n",
        "df.columns = df.columns.str.strip()\n",
        "conn = sqlite3.connect(\"/content/drive/MyDrive/projectDatabase/soccerDataLake.db\")\n",
        "df.to_sql( 'lineup' , conn , if_exists='replace')\n",
        "conn.close()"
      ]
    },
    {
      "cell_type": "code",
      "execution_count": null,
      "metadata": {
        "id": "JfeoqmHjsaQh"
      },
      "outputs": [],
      "source": [
        "query = \"SELECT g.game_id FROM lineup g\"\n",
        "df = pd.read_sql_query(query, conn)\n",
        "conn.close()\n",
        "lista = df['game_id'].to_list()\n",
        "\n",
        "query = \"SELECT g.player_id FROM lineup g\"\n",
        "df = pd.read_sql_query(query, conn)\n",
        "conn.close()\n",
        "jogadores = df['player_id'].to_list()\n",
        "\n",
        "columns_to_drop = ['team.shortName', 'team.gender', 'team.sport.name', 'team.sport.slug', 'team.sport.id', 'team.userCount','team.teamColors.primary', 'team.teamColors.secondary','team.teamColors.text',\n",
        "       'player.fieldTranslations.nameTranslation.ar','player.fieldTranslations.shortNameTranslation.ar','team.nameCode', 'team.disabled', 'team.national', 'team.type','player.dateOfBirthTimestamp']\n",
        "\n",
        "df = pd.DataFrame()\n",
        "for i,j in zip(lista,jogadores):\n",
        "    url_partida = f\"https://api.sofascore.com/api/v1/event/{i}/player/{j}/statistics\"\n",
        "    response = requests.request(\"GET\", url_partida , headers = headers, data = payload)\n",
        "    grupos  = response.json()\n",
        "    df_temp = pd.json_normalize(grupos)\n",
        "    df_temp = df_temp.rename(columns = {'player.id':'player_id'})\n",
        "    df_temp['game_id'] = i\n",
        "    df_temp['playerBirthday'] = pd.to_datetime(df_temp['player.dateOfBirthTimestamp'], unit='s', utc=True).dt.tz_convert('UTC-03:00')\n",
        "    df_temp = df_temp.drop(columns_to_drop, axis=1)\n",
        "    df = pd.concat([df, df_temp])\n",
        "    time.sleep(2)\n",
        "\n",
        "df.columns = df.columns.str.strip()\n",
        "conn = sqlite3.connect(\"/content/drive/MyDrive/projectDatabase/soccerDataLake.db\")\n",
        "df.to_sql( 'playerStats' , conn , if_exists='replace')\n",
        "conn.close()"
      ]
    },
    {
      "cell_type": "code",
      "execution_count": null,
      "metadata": {
        "colab": {
          "base_uri": "https://localhost:8080/"
        },
        "id": "kSa3VbVH2Skx",
        "outputId": "2eab0a79-1b35-4d29-bf83-6b4b8a041214"
      },
      "outputs": [
        {
          "data": {
            "text/plain": [
              "array(['position', 'player.name', 'player.firstName', 'player.lastName',\n",
              "       'player.slug', 'player.shortName', 'player.position',\n",
              "       'player.jerseyNumber', 'player.userCount', 'player.id',\n",
              "       'player.marketValueCurrency', 'player.dateOfBirthTimestamp',\n",
              "       'player.fieldTranslations.nameTranslation.ar',\n",
              "       'player.fieldTranslations.shortNameTranslation.ar', 'team.name',\n",
              "       'team.slug', 'team.shortName', 'team.gender', 'team.sport.name',\n",
              "       'team.sport.slug', 'team.sport.id', 'team.userCount',\n",
              "       'team.nameCode', 'team.disabled', 'team.national', 'team.type',\n",
              "       'team.id', 'team.teamColors.primary', 'team.teamColors.secondary',\n",
              "       'team.teamColors.text',\n",
              "       'team.fieldTranslations.nameTranslation.ru',\n",
              "       'statistics.totalPass', 'statistics.accuratePass',\n",
              "       'statistics.totalLongBalls', 'statistics.accurateLongBalls',\n",
              "       'statistics.goalAssist', 'statistics.totalCross',\n",
              "       'statistics.accurateCross', 'statistics.aerialLost',\n",
              "       'statistics.duelLost', 'statistics.duelWon',\n",
              "       'statistics.challengeLost', 'statistics.dispossessed',\n",
              "       'statistics.totalContest', 'statistics.wonContest',\n",
              "       'statistics.bigChanceCreated', 'statistics.onTargetScoringAttempt',\n",
              "       'statistics.blockedScoringAttempt', 'statistics.totalClearance',\n",
              "       'statistics.outfielderBlock', 'statistics.interceptionWon',\n",
              "       'statistics.totalTackle', 'statistics.wasFouled',\n",
              "       'statistics.fouls', 'statistics.minutesPlayed',\n",
              "       'statistics.touches', 'statistics.rating',\n",
              "       'statistics.possessionLostCtrl', 'statistics.expectedGoals',\n",
              "       'statistics.keyPass', 'statistics.ratingVersions.original',\n",
              "       'statistics.ratingVersions.alternative',\n",
              "       'statistics.expectedAssists'], dtype=object)"
            ]
          },
          "execution_count": 26,
          "metadata": {},
          "output_type": "execute_result"
        }
      ],
      "source": [
        "df_temp.columns.values"
      ]
    }
  ],
  "metadata": {
    "colab": {
      "provenance": []
    },
    "kernelspec": {
      "display_name": "Python 3",
      "name": "python3"
    },
    "language_info": {
      "name": "python"
    }
  },
  "nbformat": 4,
  "nbformat_minor": 0
}
